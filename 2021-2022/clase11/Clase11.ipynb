{
 "cells": [
  {
   "cell_type": "markdown",
   "metadata": {
    "pycharm": {
     "name": "#%% md\n"
    }
   },
   "source": [
    "# Resumen de la clase\n",
    "En la clase de hoy hemos el uso de Deep Learning con Visión Artificial. Para finalizar la clase hemos realizado unas pruebas con un modelo de CNN llamado `digitslive-4.py`. Las siguientes fotografías son resultado de las pruebas realizadas."
   ]
  },
  {
   "cell_type": "markdown",
   "metadata": {
    "pycharm": {
     "name": "#%% md\n"
    }
   },
   "source": [
    "En la imagen de debajo, se pueden ver como en el frame capturado se puede ver que reconoce parcialmente el 1 y el 0. Y el 2 y el 5 los reconoce perfectamente. El 0 tachado no lo reconoce (creo que nop esta en la base de ejemplos el 0 tachado), el 6 y 7 que son visibles es incapaz de reconocerlo así como el 4 tampoco lo reconoce.\n",
    "![img1](img1.png)\n",
    "\n",
    "En un frame más cerca, con los números 5, 0, 6 claramente visible y el 7 parcialmente visible, no reconoce ninguno, pero un sector de la cuadricula del papel la reconoce como el 1.\n",
    "![img2](img2.png)\n",
    "\n",
    "Rotando el papel, se pueden ver dos 8 rotados y un nueve, reconociendo solamente el 9 con poca certeza, como se puede ver en los negativos de abajo, si no fuera por la rotación de 90º en los ochos probablemente los había reconocido.\n",
    "![img3](img3.png)\n",
    "\n",
    "Los datos de entrenamiento estaban realizados con tinta y trazo gordo. Seguramente los finos trazos de bolígrafo causan bastantes problemas a la hora de hacer matching. Probando con un 5 de bolígrafo realizado en bolígrafo más gordo y rallado por dentro vemos que no es capaz de reconocerlo.\n",
    "![img4](img4.png)\n",
    "\n",
    "En la pizarra de clase el profesor escribio unos digitos redondeados y bastantes grandes, los cuales el modelo reconoció sin problemas.\n",
    "![img5](img5.png)"
   ]
  }
 ],
 "metadata": {
  "kernelspec": {
   "display_name": "Python 3 (ipykernel)",
   "language": "python",
   "name": "python3"
  },
  "language_info": {
   "codemirror_mode": {
    "name": "ipython",
    "version": 3
   },
   "file_extension": ".py",
   "mimetype": "text/x-python",
   "name": "python",
   "nbconvert_exporter": "python",
   "pygments_lexer": "ipython3",
   "version": "3.9.5"
  }
 },
 "nbformat": 4,
 "nbformat_minor": 1
}