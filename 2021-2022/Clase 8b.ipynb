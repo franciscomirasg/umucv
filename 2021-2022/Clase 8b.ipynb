{
 "cells": [
  {
   "cell_type": "markdown",
   "metadata": {
    "collapsed": true,
    "pycharm": {
     "name": "#%% md\n"
    }
   },
   "source": [
    "# Clase 8b"
   ]
  },
  {
   "cell_type": "markdown",
   "source": [
    "## Reconocimiento de formas\n",
    "Se ha explicado en la clase el reconocimiento de formas mediante contornos, que se encuentra en la serie de ficheros `trebolX.py`.\n",
    "El funcionamiento por encima consite en reconocer los cotornos de las formas en una imagen, opcionalmente se pueden filtrar las formas muy pequeñas (si se ve necesario) o comprobar en que sentido se recorre la forma (que puede indicar que no sea muy parecido). Posteriormente obtenemos las componentes frecuenciales , que nos sirven para reconocer esa forma en caso que se haya rotado o transformado en el espacio, _(Componentes invariantes)_. Si a un contorno de muestra se le obtienen sus componente, en una imagen se puede buscar formas similares a la de muestra y si las componentes son parecidas se puede aislar en la imagen las coincidencias.\n"
   ],
   "metadata": {
    "collapsed": false,
    "pycharm": {
     "name": "#%% md\n"
    }
   }
  }
 ],
 "metadata": {
  "kernelspec": {
   "display_name": "Python 3",
   "language": "python",
   "name": "python3"
  },
  "language_info": {
   "codemirror_mode": {
    "name": "ipython",
    "version": 2
   },
   "file_extension": ".py",
   "mimetype": "text/x-python",
   "name": "python",
   "nbconvert_exporter": "python",
   "pygments_lexer": "ipython2",
   "version": "2.7.6"
  }
 },
 "nbformat": 4,
 "nbformat_minor": 0
}