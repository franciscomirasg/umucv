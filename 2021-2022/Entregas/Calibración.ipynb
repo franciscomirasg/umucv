{
 "cells": [
  {
   "cell_type": "markdown",
   "id": "925c76af",
   "metadata": {},
   "source": [
    "# Calibración\n",
    "## Como colocar la camara para obtener la vista cenital de un partido de baloncesto\n",
    "1. Un campo de baloncesto según la FIBA es de 28m de largo (ancho) por 15m de alto. Se resolvera usando como datos las especificaciones de mi telefono mediante droidcam.\n",
    "48 MP, f/1.8, 26mm (wide), 1/2.0\", 0.8µm, PDAF Xiaomi Redmi 9T"
   ]
  },
  {
   "cell_type": "code",
   "execution_count": 10,
   "id": "5eafd52a",
   "metadata": {},
   "outputs": [],
   "source": [
    "import numpy as np\n",
    "# Datos\n",
    "w = 640 # Ancho imagen\n",
    "h = 480 # Alto imagen\n",
    "f = 26 # Focal, mm"
   ]
  },
  {
   "cell_type": "markdown",
   "id": "e3696f15",
   "metadata": {},
   "source": [
    "Como el valor mas restrictivo es ancho, calcularemos la altura teniendo en cuenta el ancho de la cancha."
   ]
  },
  {
   "cell_type": "code",
   "execution_count": 11,
   "id": "fda340e9",
   "metadata": {},
   "outputs": [
    {
     "name": "stdout",
     "output_type": "stream",
     "text": [
      "1.1375 metros\n"
     ]
    }
   ],
   "source": [
    "cancha = 28\n",
    "cancha = 28/2 # Nos quedamos con la mitad para trabajar por semajanza de triangulo rectangulos\n",
    "result = f*(cancha/(w/2)) # El triangulo que forma el focal a ancho de la imagen es semejante al que cubre la cancha.\n",
    "                          # Solo nos resta calcular la distancia del otro triangulo.\n",
    "print(f'{result} metros')"
   ]
  },
  {
   "cell_type": "code",
   "execution_count": null,
   "id": "bc563016",
   "metadata": {},
   "outputs": [],
   "source": []
  }
 ],
 "metadata": {
  "kernelspec": {
   "display_name": "Python 3 (ipykernel)",
   "language": "python",
   "name": "python3"
  },
  "language_info": {
   "codemirror_mode": {
    "name": "ipython",
    "version": 3
   },
   "file_extension": ".py",
   "mimetype": "text/x-python",
   "name": "python",
   "nbconvert_exporter": "python",
   "pygments_lexer": "ipython3",
   "version": "3.9.5"
  }
 },
 "nbformat": 4,
 "nbformat_minor": 5
}
