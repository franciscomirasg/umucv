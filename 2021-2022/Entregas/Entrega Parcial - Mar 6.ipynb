{
 "cells": [
  {
   "cell_type": "markdown",
   "id": "c58ebd4c",
   "metadata": {},
   "source": [
    "## 2. Actividad\n",
    "La resolución de actividad se encuentra en el fichero de [`ACTIVIDAD.py`](./ACTIVIDAD.py).\n",
    "### Introdución\n",
    "En el fichero se encuentra resueltas las siguientes cuestiones:\n",
    "1. Selección de una región dentro de una imagen\n",
    "2. Captura del trozo guardado y detección de la actividad con respecto al trozo guardado.\n",
    "3. Grabación de un video conteniendo 2 segundos antes de la actividad, hasta el fin de la misma.\n",
    "Opcionalmente, se ha realizado el recorte del objeto en cuestion, mediante una mascara.\n",
    "\n",
    "### Uso\n",
    "La ejecución se realiza con los argumentos que se pasaría a `stream.py`.\n",
    "Los controles adicionales son los siguientes:\n",
    "- 'c': Guarda la región seleccionada como muestra\n",
    "- 'x': Eliminar la region seleccionada.\n",
    "La aplicación analizara la actividad ocurrida en la seccion seleccionada con respecto a la muestra tomada. En caso de detectar actividad realizara la grabación de un video. Así como mostrar el objeto recortado del fondo.\n",
    "\n",
    "Se pueden ajustar la sensibilidad de recorte y detección en tiempo real mediante las tracbars.\n",
    "\n",
    "### Implementación\n",
    "Para la implentación se han uso de las utilidades de `umucv`. En el codigo ha sido comentado adecuadamente y se procedera a expandir algunos fragmentos.\n",
    "\n",
    "#### Buffer de video\n",
    "Para almacenar los ultimos 2 segundos se hace uso de `deque`, con un tamaño de los FPS de la camara * 2. Por defecto es 60.\n",
    "\n",
    "#### Creación de video\n",
    "En la clase `ControlAct` se encuentra la utilidad para grabar video."
   ]
  },
  {
   "cell_type": "code",
   "execution_count": 8,
   "id": "7d2078c2",
   "metadata": {},
   "outputs": [],
   "source": [
    "    def start_video(self):  # Inicia el video y guarda los ultimos x segundos de inmediato\n",
    "        if self.video or len(self.last_frames) < 1:\n",
    "            return\n",
    "        self.video = Video(fps=FPS, codec=\"MJPG\", ext=\"avi\")\n",
    "        self.video.ON = True\n",
    "        for f in self.last_frames:\n",
    "            self.video.write(f)\n",
    "        self.last_frames.clear()\n",
    "\n",
    "    def continue_video(self, f):  # Añade el frame actual\n",
    "        if self.video:\n",
    "            self.video.write(f)\n",
    "\n",
    "    def stop_video(self):  # Detiene el video\n",
    "        self.video.ON = False\n",
    "        self.video.release()\n",
    "        self.video = None"
   ]
  },
  {
   "cell_type": "markdown",
   "id": "7afb6c09",
   "metadata": {},
   "source": [
    "- `start_video`: Crea el video, graba en el los frames almecenados y el actual.\n",
    "- `continue_video`: Graba el frame actual.\n",
    "- `stop_video`: Detiene el video y lo cierra.\n",
    "\n",
    "#### Detección de Actividad\n",
    "El código encargado de la detección de actividad es el siguiente:"
   ]
  },
  {
   "cell_type": "markdown",
   "id": "ee48c663",
   "metadata": {},
   "source": [
    "```py\n",
    "if data.saved_trozo is not None:  # Si hay trozo guardado, empezamos con la vigilancia\n",
    "            diff = cv.absdiff(data.saved_trozo, recorte)  # Calculamos la diferencia del actual con el guardado\n",
    "            diff = bgr2gray(diff)\n",
    "            mean = np.mean(diff)\n",
    "            means = mean  # La media nos da una aproximación de cuanto ha cambiado con la de referncia\n",
    "\n",
    "            if len(data.last_mean) >= SUAVIZAR_MEDIA:  # Si hay suficientes medias las suavizamos conforme el tiempo\n",
    "                means = np.mean(data.last_mean)\n",
    "\n",
    "            if np.abs(means - mean) <= data.umbral_deteccion:  # Si la variación no es suficiente grande.\n",
    "                data.last_mean.append(mean)\n",
    "                data.last_frames.append(recorte)  # Actualizamos las medias y guardamos frame\n",
    "                if data.estado is not Estado.END:  # Si venimos de un estado de actividad\n",
    "                    data.stop_video()  # Detenemos grabación y destruimos ventanas residuales\n",
    "                    print('Fin actividad')\n",
    "                    data.estado = Estado.END\n",
    "                    try:\n",
    "                        cv.destroyWindow('mascara')\n",
    "                        cv.destroyWindow('objeto')\n",
    "                    except Exception:\n",
    "                        pass\n",
    "            else:  # Si Hay diferencia\n",
    "                mask = diff > data.umbral_recorte  # Creamos mascara\n",
    "                cv.imshow('mascara', mask.astype(float))\n",
    "                mask = gray2bgr(mask)\n",
    "                objeto = np.zeros_like(recorte)  # Recortamos la mascara\n",
    "                np.copyto(objeto, recorte, where=mask == 1)\n",
    "                cv.imshow('objeto', objeto)\n",
    "                putText(diff, 'ALERT', orig=(5, diff.shape[0] - 5))  # Notificamos la alerta\n",
    "\n",
    "                if data.estado is Estado.END:  # Si no estamos grabando, empezamos\n",
    "                    print('Actividad detectada')\n",
    "                    data.start_video()\n",
    "                    data.continue_video(recorte)\n",
    "                    data.estado = Estado.ACTIVITY\n",
    "                elif data.estado is Estado.ACTIVITY:  # Continuamos grabando\n",
    "                    data.continue_video(recorte)\n",
    "```"
   ]
  },
  {
   "cell_type": "markdown",
   "id": "2d5c73db",
   "metadata": {},
   "source": [
    "El primer `if` es una guarda para evitar analizar cunado no hay muestra.\n",
    "El proceso consiste en: Calculamos la diferencia absoluta de la muestra y el recorte (en blanco y negro) y calculamos la media.\n",
    "Si hay suficientes medias anteriores almacenadas se usa la media de las medias, esta decisión se ha tomado para suavizar el comportamiento de cambios de iluminación graduales temporales (pasa una nube), flickering de la camara o el autofocus. (_Durante la realización de las pruebas me dieron problemas en especial el autofocus_). Siguiente a eso, si la diferencia de la media actual con las ultimas mediciones no supera el umbral, se añade el frame al buffer y se añade esa media al buffer de ultimas medias, además si se estaba grabando se detiente la grabación y limpian las ventanas sobrantes.\n",
    "En caso contrario, la diferencia supera el umbral, se empieza a grabar, se recorta el objeto (gracias a que cualquier pertubación en la imagen se ve en gris o blanco en la imagen) facilitando así la creación de una mascara.\n",
    "\n",
    "El proceso de deteción se realiza mediante una media aritmetrica, en este uso funciona decentemente bien debido a que el numero de pixeles es el mismo, y la variación del valor de gris de un grupo de pixeles afecta a la media de la imagen sustancialmente.\n",
    "\n",
    "### Ejemplo\n",
    "![Ejemplo](./Actividad.png)"
   ]
  },
  {
   "cell_type": "markdown",
   "id": "4a8f1d7f",
   "metadata": {},
   "source": [
    "## 3. Color\n",
    "La resolución de actividad se encuentra en el fichero de [`COLOR.py`](./COLOR.py).\n",
    "### Introdución\n",
    "En el fichero se encuentra resueltas las siguientes cuestiones:\n",
    "1. Selección de una región dentro de una imagen\n",
    "2. Representación en vivo del color de la region mediante histograma, (mostrado en lineas).\n",
    "3. Detección de similitud de la región con un grupo de muestra.\n",
    "\n",
    "### Uso\n",
    "La ejecución se realiza con los argumentos que se pasaría a `stream.py`.\n",
    "Los controles adicionales son los siguientes:\n",
    "- 'c': Guarda la región seleccionada como muestra\n",
    "- 'x': Elimina la selección de la región\n",
    "- 'r': Elimina los modelos almacenados\n",
    "- 'n': Selecciona el siguiente método de comparación \n",
    "La aplicación muestra la cantidad de color en la region seleccionada, la capacidad de captura de la misma como muestra y la selección de la muestra más parecida a la selección actual.\n",
    "\n",
    "\n",
    "### Implementación\n",
    "Para la implentación se han uso de las utilidades de  `umucv`.\n",
    "\n",
    "#### Creacion de histogramas\n",
    "Las funciones de codigo encargadas de la creación de histogramas son las siguientes."
   ]
  },
  {
   "cell_type": "code",
   "execution_count": 9,
   "id": "15d20532",
   "metadata": {},
   "outputs": [],
   "source": [
    "def make_histogram(c, size):  # Crea un histograma normalizado y el adaptado al tamaño del ROI\n",
    "    h, b = np.histogram(c, np.arange(0, 257, 4))\n",
    "    x = 2 * b[1:]\n",
    "    yn = h / np.sum(h)\n",
    "    y = size - h * (size / h.max())\n",
    "    xy = np.array([x, y]).T.astype(int)\n",
    "    xyn = np.array([x, yn])\n",
    "    return xy, xyn"
   ]
  },
  {
   "cell_type": "markdown",
   "id": "74fdadc9",
   "metadata": {},
   "source": [
    "Recibe los canales de color (c) y la altura de la region, para crear un histograma normalizado `xyn` y el que se muestra `xy`. Esta función es usada por `make_rgb_histogram` para crear los histogramas de cada color."
   ]
  },
  {
   "cell_type": "code",
   "execution_count": 10,
   "id": "733a9335",
   "metadata": {},
   "outputs": [],
   "source": [
    "def make_rgb_histogram(f, size):  # Hace los histogramas para cada canal\n",
    "    blue, green, red = cv.split(f)\n",
    "    blue = make_histogram(blue, size)\n",
    "    green = make_histogram(green, size)\n",
    "    red = make_histogram(red, size)\n",
    "    return blue, green, red"
   ]
  },
  {
   "cell_type": "markdown",
   "id": "178f4de5",
   "metadata": {},
   "source": [
    "Separa los canales de color de la region seleccionada y crea los histogramas para cada canal.\n",
    "\n",
    "#### Comparación de histogramas\n",
    "Para la comparación de histogramas se han implementado dos metodos. Intersección de histogramas (_El que mayor valor de intersección devuelve es el más probable que sea el más cercano_). Y por diferencia absuluta(_Cuanto menor sea la diferencia más acerca al modelo_)."
   ]
  },
  {
   "cell_type": "code",
   "execution_count": 11,
   "id": "087b7671",
   "metadata": {},
   "outputs": [],
   "source": [
    "def hg_diff(hg1, hg2):  # Comparacion de histogramas por diferencia absoluta\n",
    "    hgy1 = hg1[:, 1]\n",
    "    hgy2 = hg2[:, 1]\n",
    "    diff = np.abs(hgy1 - hgy2)\n",
    "    return diff\n",
    "\n",
    "\n",
    "def hg_intersect(hg1, hg2):  # Comparacion de histogramas por interseccion de histogramas\n",
    "    mini = np.minimum(hg1, hg2)\n",
    "    result = np.true_divide(np.sum(mini), np.sum(hg2))\n",
    "    return result"
   ]
  },
  {
   "cell_type": "markdown",
   "id": "0df695fe",
   "metadata": {},
   "source": [
    "#### Selección de modelo\n",
    "La seleccíon del modelo más parecido se apoya de las siguietes dos funciones:"
   ]
  },
  {
   "cell_type": "code",
   "execution_count": 12,
   "id": "9c62a4cf",
   "metadata": {},
   "outputs": [],
   "source": [
    "def select_candidate(values, mode):  # Seleciona que canal se diferencia más\n",
    "    if mode == 'min':\n",
    "        return np.max(values)\n",
    "    elif mode == 'max':\n",
    "        return np.min(values)\n",
    "\n",
    "\n",
    "def is_better(value, last_value, mode):  # Comprueba si el modelo actual es mejor\n",
    "    if last_value is None:\n",
    "        return True\n",
    "    elif mode == 'min':\n",
    "        return value < last_value\n",
    "    elif mode == 'max':\n",
    "        return value > last_value"
   ]
  },
  {
   "cell_type": "markdown",
   "id": "124344ce",
   "metadata": {},
   "source": [
    "La primera, selecciona el valor más significativo de los tres canalaes de color, el modo define como se comporta. Por ejemplo en caso de la intersección el valor más pequeño es el más distinto, mientras que en diferencias el más alto es el más distinto.\n",
    "La segunda devuelve si el modelo actual es mejor candidato que el anterior candidato elegido."
   ]
  },
  {
   "cell_type": "code",
   "execution_count": 13,
   "id": "9d65d22f",
   "metadata": {},
   "outputs": [],
   "source": [
    "def select_most_like_model(data, hgn, method):  # Selecciona el mejor modelo\n",
    "    values = list()\n",
    "    index = 0\n",
    "    last_min = None\n",
    "    b, g, r = hgn\n",
    "    for i in range(0, len(data.patrones)):\n",
    "        bp, gp, rp = data.patrones[i].color_info\n",
    "        aux_b = method.fun(bp, b)\n",
    "        aux_g = method.fun(gp, g)\n",
    "        aux_r = method.fun(rp, r)\n",
    "        value = select_candidate([aux_b, aux_g, aux_r], method.selector)\n",
    "        values.append(value)\n",
    "        if is_better(value, last_min, method.selector):\n",
    "            index = i\n",
    "            last_min = value\n",
    "\n",
    "    return values, data.patrones[index]"
   ]
  },
  {
   "cell_type": "markdown",
   "id": "596159e3",
   "metadata": {},
   "source": [
    "La función de seleccion del modelo más parecido, buscando entre todos los candidatos."
   ]
  },
  {
   "cell_type": "markdown",
   "id": "0343111f",
   "metadata": {},
   "source": [
    "### Ejemplo\n",
    "![Ejemplo2](./Color.png)"
   ]
  }
 ],
 "metadata": {
  "kernelspec": {
   "display_name": "Python 3 (ipykernel)",
   "language": "python",
   "name": "python3"
  },
  "language_info": {
   "codemirror_mode": {
    "name": "ipython",
    "version": 3
   },
   "file_extension": ".py",
   "mimetype": "text/x-python",
   "name": "python",
   "nbconvert_exporter": "python",
   "pygments_lexer": "ipython3",
   "version": "3.9.5"
  }
 },
 "nbformat": 4,
 "nbformat_minor": 5
}
