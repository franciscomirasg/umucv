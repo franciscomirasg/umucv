{
 "cells": [
  {
   "cell_type": "code",
   "execution_count": 1,
   "id": "621a4dd9",
   "metadata": {},
   "outputs": [],
   "source": [
    "# Importamos las librerias\n",
    "import numpy as np"
   ]
  },
  {
   "cell_type": "code",
   "execution_count": 2,
   "id": "a0fa3e4a",
   "metadata": {},
   "outputs": [],
   "source": [
    "# Datos\n",
    "w = 800\n",
    "h = 600\n",
    "f = 1000"
   ]
  },
  {
   "cell_type": "markdown",
   "id": "ebc84087",
   "metadata": {},
   "source": [
    "tan(𝐹𝑂𝑉/2)=𝑤/2/𝑓"
   ]
  },
  {
   "cell_type": "markdown",
   "id": "0a9e326e",
   "metadata": {},
   "source": [
    "1. Si la camara tiene resolución de 800 pix x 600pix y f 1000pix. ¿ Que distancia necesaria para que abarque completamente una escena de 28 metros de ancho ?"
   ]
  },
  {
   "cell_type": "code",
   "execution_count": 13,
   "id": "f6db156c",
   "metadata": {},
   "outputs": [
    {
     "name": "stdout",
     "output_type": "stream",
     "text": [
      "0.020235701472398025\n"
     ]
    }
   ],
   "source": [
    "# Calculo del FOV\n",
    "fovH = np.arctan([])\n",
    "print()"
   ]
  },
  {
   "cell_type": "code",
   "execution_count": 8,
   "id": "f73976cd",
   "metadata": {},
   "outputs": [
    {
     "name": "stdout",
     "output_type": "stream",
     "text": [
      "35.0\n"
     ]
    }
   ],
   "source": [
    "X_2 = 28\n",
    "d = (f*(X_2/2))/(w/2)\n",
    "print(d)"
   ]
  },
  {
   "cell_type": "markdown",
   "id": "f76e364a",
   "metadata": {},
   "source": [
    "2. ¿Que longitud en pixels tendra el diametro de una pelota de baloncesto a esa distancia ? 24cm en el original"
   ]
  },
  {
   "cell_type": "code",
   "execution_count": 15,
   "id": "fb02099d",
   "metadata": {},
   "outputs": [
    {
     "name": "stdout",
     "output_type": "stream",
     "text": [
      "6.857142857142857\n"
     ]
    }
   ],
   "source": [
    "pelota = 24 * (1/100)\n",
    "px_pelota = (f*pelota)/(d)\n",
    "print(px_pelota)"
   ]
  },
  {
   "cell_type": "markdown",
   "id": "bc973f7d",
   "metadata": {},
   "source": [
    "3. ¿A que distancia está la pelota si se ve con un diametro de 15 pix?"
   ]
  },
  {
   "cell_type": "code",
   "execution_count": 16,
   "id": "bde2f087",
   "metadata": {},
   "outputs": [
    {
     "name": "stdout",
     "output_type": "stream",
     "text": [
      "16.0\n"
     ]
    }
   ],
   "source": [
    "px_pelota_2 = 15\n",
    "pelota_2 = (f*pelota)/(px_pelota_2)\n",
    "print(pelota_2)"
   ]
  },
  {
   "cell_type": "code",
   "execution_count": null,
   "id": "897fc63d",
   "metadata": {},
   "outputs": [],
   "source": []
  }
 ],
 "metadata": {
  "kernelspec": {
   "display_name": "Python 3 (ipykernel)",
   "language": "python",
   "name": "python3"
  },
  "language_info": {
   "codemirror_mode": {
    "name": "ipython",
    "version": 3
   },
   "file_extension": ".py",
   "mimetype": "text/x-python",
   "name": "python",
   "nbconvert_exporter": "python",
   "pygments_lexer": "ipython3",
   "version": "3.9.7"
  }
 },
 "nbformat": 4,
 "nbformat_minor": 5
}
