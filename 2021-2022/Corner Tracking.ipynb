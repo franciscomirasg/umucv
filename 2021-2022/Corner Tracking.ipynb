{
 "cells": [
  {
   "cell_type": "markdown",
   "metadata": {
    "collapsed": true,
    "pycharm": {
     "name": "#%% md\n"
    }
   },
   "source": [
    "# Detección de Puntos\n",
    "Una manera de detectar puntos, es mediante la deteción del gradiente en una imagen y su covarianza.\n",
    "El primer paso es pasar la imagen a escala de grises. _Solo nos interesa el cambio de gradiente._\n",
    "Para suavizar los resultados se puede aplicar un ligero filtro gaussiano a la imagen, posteriormente usaremos este filtro para hacer una media gradual. _(`Box filter` tambien se puede usar para este proposito, dando una media más generalizada)_.\n",
    "Procedemos con el calculo de los gradientes, para ello obtenemos la derivada horizontal y vertical de la imagen."
   ]
  },
  {
   "cell_type": "markdown",
   "source": [
    "# Seguimiento de puntos\n",
    "Para el seguimiento de puntos se puede hacer uso de la tecnica LK, que mediante la comparación de gradientes y sus derivadas es capaz de asociar un punto/esquina con su posición anterior."
   ],
   "metadata": {
    "collapsed": false
   }
  },
  {
   "cell_type": "markdown",
   "source": [
    "# Dirección y Posible sensor de movimientos\n",
    "Una mejora que se podría hacer al codigo del apartado anterior es indicar en que direccíon se mueve la camara. Esto se puede obtener obteniendo el vector de movimiento, que se puede obtener restando la posición del punto actual con su última posición, obteniendo un vector de dirección. Comprobando el signo de la componente X se obtiene el movimiento de izq-dch y con la componente Y el movimiento de arriba-abajo. En caso de haber multiples puntos se podría acumular los vectores de dirección o realizar la media con tal de confirmar la dirección con todas las referencias.\n",
    "\n",
    "Un sensor de movimiento se podría realizar notificando los cambios de los puntos de referencia de una imagen con su ultima ubicación conocida."
   ],
   "metadata": {
    "collapsed": false
   }
  }
 ],
 "metadata": {
  "kernelspec": {
   "display_name": "Python 3",
   "language": "python",
   "name": "python3"
  },
  "language_info": {
   "codemirror_mode": {
    "name": "ipython",
    "version": 2
   },
   "file_extension": ".py",
   "mimetype": "text/x-python",
   "name": "python",
   "nbconvert_exporter": "python",
   "pygments_lexer": "ipython2",
   "version": "2.7.6"
  }
 },
 "nbformat": 4,
 "nbformat_minor": 0
}